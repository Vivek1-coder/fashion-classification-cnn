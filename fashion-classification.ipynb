{
 "cells": [
  {
   "cell_type": "code",
   "execution_count": 1,
   "id": "fdc53be1",
   "metadata": {
    "_cell_guid": "b1076dfc-b9ad-4769-8c92-a6c4dae69d19",
    "_uuid": "8f2839f25d086af736a60e9eeb907d3b93b6e0e5",
    "execution": {
     "iopub.execute_input": "2025-05-12T08:02:47.709818Z",
     "iopub.status.busy": "2025-05-12T08:02:47.709595Z",
     "iopub.status.idle": "2025-05-12T08:02:49.135594Z",
     "shell.execute_reply": "2025-05-12T08:02:49.135056Z"
    },
    "papermill": {
     "duration": 1.433153,
     "end_time": "2025-05-12T08:02:49.137024",
     "exception": false,
     "start_time": "2025-05-12T08:02:47.703871",
     "status": "completed"
    },
    "tags": []
   },
   "outputs": [],
   "source": [
    "# This Python 3 environment comes with many helpful analytics libraries installed\n",
    "# It is defined by the kaggle/python Docker image: https://github.com/kaggle/docker-python\n",
    "# For example, here's several helpful packages to load\n",
    "\n",
    "import numpy as np # linear algebra\n",
    "import pandas as pd # data processing, CSV file I/O (e.g. pd.read_csv)\n",
    "\n",
    "# Input data files are available in the read-only \"../input/\" directory\n",
    "# For example, running this (by clicking run or pressing Shift+Enter) will list all files under the input directory\n",
    "\n",
    "import os\n",
    "for dirname, _, filenames in os.walk('/kaggle/input'):\n",
    "    for filename in filenames:\n",
    "        print(os.path.join(dirname, filename))\n",
    "\n",
    "# You can write up to 20GB to the current directory (/kaggle/working/) that gets preserved as output when you create a version using \"Save & Run All\" \n",
    "# You can also write temporary files to /kaggle/temp/, but they won't be saved outside of the current session"
   ]
  },
  {
   "cell_type": "code",
   "execution_count": 2,
   "id": "3741dc10",
   "metadata": {
    "execution": {
     "iopub.execute_input": "2025-05-12T08:02:49.147663Z",
     "iopub.status.busy": "2025-05-12T08:02:49.147373Z",
     "iopub.status.idle": "2025-05-12T08:03:03.060741Z",
     "shell.execute_reply": "2025-05-12T08:03:03.059932Z"
    },
    "papermill": {
     "duration": 13.920203,
     "end_time": "2025-05-12T08:03:03.062290",
     "exception": false,
     "start_time": "2025-05-12T08:02:49.142087",
     "status": "completed"
    },
    "tags": []
   },
   "outputs": [
    {
     "name": "stderr",
     "output_type": "stream",
     "text": [
      "2025-05-12 08:02:52.557444: E external/local_xla/xla/stream_executor/cuda/cuda_fft.cc:477] Unable to register cuFFT factory: Attempting to register factory for plugin cuFFT when one has already been registered\n",
      "WARNING: All log messages before absl::InitializeLog() is called are written to STDERR\n",
      "E0000 00:00:1747036972.761365      19 cuda_dnn.cc:8310] Unable to register cuDNN factory: Attempting to register factory for plugin cuDNN when one has already been registered\n",
      "E0000 00:00:1747036972.820331      19 cuda_blas.cc:1418] Unable to register cuBLAS factory: Attempting to register factory for plugin cuBLAS when one has already been registered\n"
     ]
    }
   ],
   "source": [
    "import matplotlib.pyplot as plt\n",
    "import seaborn as sns\n",
    "import keras"
   ]
  },
  {
   "cell_type": "code",
   "execution_count": 3,
   "id": "b2545a31",
   "metadata": {
    "execution": {
     "iopub.execute_input": "2025-05-12T08:03:03.074160Z",
     "iopub.status.busy": "2025-05-12T08:03:03.073170Z",
     "iopub.status.idle": "2025-05-12T08:03:03.820282Z",
     "shell.execute_reply": "2025-05-12T08:03:03.819708Z"
    },
    "papermill": {
     "duration": 0.753607,
     "end_time": "2025-05-12T08:03:03.821739",
     "exception": false,
     "start_time": "2025-05-12T08:03:03.068132",
     "status": "completed"
    },
    "tags": []
   },
   "outputs": [
    {
     "name": "stdout",
     "output_type": "stream",
     "text": [
      "Downloading data from https://storage.googleapis.com/tensorflow/tf-keras-datasets/train-labels-idx1-ubyte.gz\n",
      "\u001b[1m29515/29515\u001b[0m \u001b[32m━━━━━━━━━━━━━━━━━━━━\u001b[0m\u001b[37m\u001b[0m \u001b[1m0s\u001b[0m 0us/step\n",
      "Downloading data from https://storage.googleapis.com/tensorflow/tf-keras-datasets/train-images-idx3-ubyte.gz\n",
      "\u001b[1m26421880/26421880\u001b[0m \u001b[32m━━━━━━━━━━━━━━━━━━━━\u001b[0m\u001b[37m\u001b[0m \u001b[1m0s\u001b[0m 0us/step\n",
      "Downloading data from https://storage.googleapis.com/tensorflow/tf-keras-datasets/t10k-labels-idx1-ubyte.gz\n",
      "\u001b[1m5148/5148\u001b[0m \u001b[32m━━━━━━━━━━━━━━━━━━━━\u001b[0m\u001b[37m\u001b[0m \u001b[1m0s\u001b[0m 0us/step\n",
      "Downloading data from https://storage.googleapis.com/tensorflow/tf-keras-datasets/t10k-images-idx3-ubyte.gz\n",
      "\u001b[1m4422102/4422102\u001b[0m \u001b[32m━━━━━━━━━━━━━━━━━━━━\u001b[0m\u001b[37m\u001b[0m \u001b[1m0s\u001b[0m 0us/step\n"
     ]
    }
   ],
   "source": [
    "(X_train,y_train),(X_test,y_test) = keras.datasets.fashion_mnist.load_data()"
   ]
  },
  {
   "cell_type": "code",
   "execution_count": 4,
   "id": "97f044ff",
   "metadata": {
    "execution": {
     "iopub.execute_input": "2025-05-12T08:03:03.843124Z",
     "iopub.status.busy": "2025-05-12T08:03:03.842582Z",
     "iopub.status.idle": "2025-05-12T08:03:03.847852Z",
     "shell.execute_reply": "2025-05-12T08:03:03.847224Z"
    },
    "papermill": {
     "duration": 0.012941,
     "end_time": "2025-05-12T08:03:03.848937",
     "exception": false,
     "start_time": "2025-05-12T08:03:03.835996",
     "status": "completed"
    },
    "tags": []
   },
   "outputs": [
    {
     "data": {
      "text/plain": [
       "((60000, 28, 28), (10000, 28, 28))"
      ]
     },
     "execution_count": 4,
     "metadata": {},
     "output_type": "execute_result"
    }
   ],
   "source": [
    "X_train.shape,X_test.shape"
   ]
  },
  {
   "cell_type": "code",
   "execution_count": 5,
   "id": "699cbd2c",
   "metadata": {
    "execution": {
     "iopub.execute_input": "2025-05-12T08:03:03.860543Z",
     "iopub.status.busy": "2025-05-12T08:03:03.860121Z",
     "iopub.status.idle": "2025-05-12T08:03:03.865528Z",
     "shell.execute_reply": "2025-05-12T08:03:03.864868Z"
    },
    "papermill": {
     "duration": 0.011979,
     "end_time": "2025-05-12T08:03:03.866562",
     "exception": false,
     "start_time": "2025-05-12T08:03:03.854583",
     "status": "completed"
    },
    "tags": []
   },
   "outputs": [
    {
     "data": {
      "text/plain": [
       "array([[[0, 0, 0, ..., 0, 0, 0],\n",
       "        [0, 0, 0, ..., 0, 0, 0],\n",
       "        [0, 0, 0, ..., 0, 0, 0],\n",
       "        ...,\n",
       "        [0, 0, 0, ..., 0, 0, 0],\n",
       "        [0, 0, 0, ..., 0, 0, 0],\n",
       "        [0, 0, 0, ..., 0, 0, 0]],\n",
       "\n",
       "       [[0, 0, 0, ..., 0, 0, 0],\n",
       "        [0, 0, 0, ..., 0, 0, 0],\n",
       "        [0, 0, 0, ..., 0, 0, 0],\n",
       "        ...,\n",
       "        [0, 0, 0, ..., 0, 0, 0],\n",
       "        [0, 0, 0, ..., 0, 0, 0],\n",
       "        [0, 0, 0, ..., 0, 0, 0]],\n",
       "\n",
       "       [[0, 0, 0, ..., 0, 0, 0],\n",
       "        [0, 0, 0, ..., 0, 0, 0],\n",
       "        [0, 0, 0, ..., 0, 0, 0],\n",
       "        ...,\n",
       "        [0, 0, 0, ..., 0, 0, 0],\n",
       "        [0, 0, 0, ..., 0, 0, 0],\n",
       "        [0, 0, 0, ..., 0, 0, 0]],\n",
       "\n",
       "       ...,\n",
       "\n",
       "       [[0, 0, 0, ..., 0, 0, 0],\n",
       "        [0, 0, 0, ..., 0, 0, 0],\n",
       "        [0, 0, 0, ..., 0, 0, 0],\n",
       "        ...,\n",
       "        [0, 0, 0, ..., 0, 0, 0],\n",
       "        [0, 0, 0, ..., 0, 0, 0],\n",
       "        [0, 0, 0, ..., 0, 0, 0]],\n",
       "\n",
       "       [[0, 0, 0, ..., 0, 0, 0],\n",
       "        [0, 0, 0, ..., 0, 0, 0],\n",
       "        [0, 0, 0, ..., 0, 0, 0],\n",
       "        ...,\n",
       "        [0, 0, 0, ..., 0, 0, 0],\n",
       "        [0, 0, 0, ..., 0, 0, 0],\n",
       "        [0, 0, 0, ..., 0, 0, 0]],\n",
       "\n",
       "       [[0, 0, 0, ..., 0, 0, 0],\n",
       "        [0, 0, 0, ..., 0, 0, 0],\n",
       "        [0, 0, 0, ..., 0, 0, 0],\n",
       "        ...,\n",
       "        [0, 0, 0, ..., 0, 0, 0],\n",
       "        [0, 0, 0, ..., 0, 0, 0],\n",
       "        [0, 0, 0, ..., 0, 0, 0]]], dtype=uint8)"
      ]
     },
     "execution_count": 5,
     "metadata": {},
     "output_type": "execute_result"
    }
   ],
   "source": [
    "X_train"
   ]
  },
  {
   "cell_type": "code",
   "execution_count": 6,
   "id": "58bfbfdd",
   "metadata": {
    "execution": {
     "iopub.execute_input": "2025-05-12T08:03:03.877234Z",
     "iopub.status.busy": "2025-05-12T08:03:03.877058Z",
     "iopub.status.idle": "2025-05-12T08:03:03.881058Z",
     "shell.execute_reply": "2025-05-12T08:03:03.880560Z"
    },
    "papermill": {
     "duration": 0.010493,
     "end_time": "2025-05-12T08:03:03.882092",
     "exception": false,
     "start_time": "2025-05-12T08:03:03.871599",
     "status": "completed"
    },
    "tags": []
   },
   "outputs": [
    {
     "data": {
      "text/plain": [
       "9"
      ]
     },
     "execution_count": 6,
     "metadata": {},
     "output_type": "execute_result"
    }
   ],
   "source": [
    "y_train[0]"
   ]
  },
  {
   "cell_type": "code",
   "execution_count": 7,
   "id": "48c4f452",
   "metadata": {
    "execution": {
     "iopub.execute_input": "2025-05-12T08:03:03.892805Z",
     "iopub.status.busy": "2025-05-12T08:03:03.892587Z",
     "iopub.status.idle": "2025-05-12T08:03:04.116773Z",
     "shell.execute_reply": "2025-05-12T08:03:04.115827Z"
    },
    "papermill": {
     "duration": 0.230941,
     "end_time": "2025-05-12T08:03:04.118167",
     "exception": false,
     "start_time": "2025-05-12T08:03:03.887226",
     "status": "completed"
    },
    "tags": []
   },
   "outputs": [
    {
     "data": {
      "text/plain": [
       "<matplotlib.image.AxesImage at 0x7f663f90ef90>"
      ]
     },
     "execution_count": 7,
     "metadata": {},
     "output_type": "execute_result"
    },
    {
     "data": {
      "image/png": "[encoded data removed]",
      "text/plain": [
       "<Figure size 640x480 with 1 Axes>"
      ]
     },
     "metadata": {},
     "output_type": "display_data"
    }
   ],
   "source": [
    "plt.imshow(X_train[0])"
   ]
  },
  {
   "cell_type": "code",
   "execution_count": 8,
   "id": "5cf443f5",
   "metadata": {
    "execution": {
     "iopub.execute_input": "2025-05-12T08:03:04.141841Z",
     "iopub.status.busy": "2025-05-12T08:03:04.141470Z",
     "iopub.status.idle": "2025-05-12T08:03:04.500065Z",
     "shell.execute_reply": "2025-05-12T08:03:04.499306Z"
    },
    "papermill": {
     "duration": 0.371419,
     "end_time": "2025-05-12T08:03:04.501136",
     "exception": false,
     "start_time": "2025-05-12T08:03:04.129717",
     "status": "completed"
    },
    "tags": []
   },
   "outputs": [
    {
     "data": {
      "text/plain": [
       "<matplotlib.image.AxesImage at 0x7f663db43110>"
      ]
     },
     "execution_count": 8,
     "metadata": {},
     "output_type": "execute_result"
    },
    {
     "data": {
      "image/png": "[encoded data removed]",
      "text/plain": [
       "<Figure size 640x480 with 1 Axes>"
      ]
     },
     "metadata": {},
     "output_type": "display_data"
    }
   ],
   "source": [
    "plt.imshow(X_train[0],cmap = 'Greys')"
   ]
  },
  {
   "cell_type": "code",
   "execution_count": 9,
   "id": "1007cb4d",
   "metadata": {
    "execution": {
     "iopub.execute_input": "2025-05-12T08:03:04.513563Z",
     "iopub.status.busy": "2025-05-12T08:03:04.513164Z",
     "iopub.status.idle": "2025-05-12T08:03:05.163899Z",
     "shell.execute_reply": "2025-05-12T08:03:05.163161Z"
    },
    "papermill": {
     "duration": 0.658056,
     "end_time": "2025-05-12T08:03:05.165123",
     "exception": false,
     "start_time": "2025-05-12T08:03:04.507067",
     "status": "completed"
    },
    "tags": []
   },
   "outputs": [
    {
     "data": {
      "image/png": "[encoded data removed]",
      "text/plain": [
       "<Figure size 1600x1600 with 25 Axes>"
      ]
     },
     "metadata": {},
     "output_type": "display_data"
    }
   ],
   "source": [
    "plt.figure(figsize = (16,16))\n",
    "\n",
    "j = 1\n",
    "for i in np.random.randint(0,1000,25):\n",
    "    plt.subplot(5,5,j); j+= 1\n",
    "    plt.imshow(X_train[i],cmap = \"Greys\")\n",
    "    plt.axis('off')\n",
    "    # plt.title(f\"{class_labels[y_train[i]]}/{y_train[i]}\")"
   ]
  },
  {
   "cell_type": "markdown",
   "id": "4dcf204a",
   "metadata": {
    "papermill": {
     "duration": 0.006095,
     "end_time": "2025-05-12T08:03:05.178100",
     "exception": false,
     "start_time": "2025-05-12T08:03:05.172005",
     "status": "completed"
    },
    "tags": []
   },
   "source": [
    "Change dimension"
   ]
  },
  {
   "cell_type": "code",
   "execution_count": 10,
   "id": "941d9d44",
   "metadata": {
    "execution": {
     "iopub.execute_input": "2025-05-12T08:03:05.191344Z",
     "iopub.status.busy": "2025-05-12T08:03:05.190965Z",
     "iopub.status.idle": "2025-05-12T08:03:05.195154Z",
     "shell.execute_reply": "2025-05-12T08:03:05.194633Z"
    },
    "papermill": {
     "duration": 0.011962,
     "end_time": "2025-05-12T08:03:05.196257",
     "exception": false,
     "start_time": "2025-05-12T08:03:05.184295",
     "status": "completed"
    },
    "tags": []
   },
   "outputs": [
    {
     "data": {
      "text/plain": [
       "3"
      ]
     },
     "execution_count": 10,
     "metadata": {},
     "output_type": "execute_result"
    }
   ],
   "source": [
    "X_train.ndim"
   ]
  },
  {
   "cell_type": "code",
   "execution_count": 11,
   "id": "a597066b",
   "metadata": {
    "execution": {
     "iopub.execute_input": "2025-05-12T08:03:05.209570Z",
     "iopub.status.busy": "2025-05-12T08:03:05.209153Z",
     "iopub.status.idle": "2025-05-12T08:03:05.212215Z",
     "shell.execute_reply": "2025-05-12T08:03:05.211737Z"
    },
    "papermill": {
     "duration": 0.010718,
     "end_time": "2025-05-12T08:03:05.213211",
     "exception": false,
     "start_time": "2025-05-12T08:03:05.202493",
     "status": "completed"
    },
    "tags": []
   },
   "outputs": [],
   "source": [
    "X_train = np.expand_dims(X_train, -1)\n",
    "X_test = np.expand_dims(X_test, -1)"
   ]
  },
  {
   "cell_type": "code",
   "execution_count": 12,
   "id": "f52fa628",
   "metadata": {
    "execution": {
     "iopub.execute_input": "2025-05-12T08:03:05.227188Z",
     "iopub.status.busy": "2025-05-12T08:03:05.227010Z",
     "iopub.status.idle": "2025-05-12T08:03:05.230705Z",
     "shell.execute_reply": "2025-05-12T08:03:05.230228Z"
    },
    "papermill": {
     "duration": 0.011924,
     "end_time": "2025-05-12T08:03:05.231638",
     "exception": false,
     "start_time": "2025-05-12T08:03:05.219714",
     "status": "completed"
    },
    "tags": []
   },
   "outputs": [
    {
     "data": {
      "text/plain": [
       "4"
      ]
     },
     "execution_count": 12,
     "metadata": {},
     "output_type": "execute_result"
    }
   ],
   "source": [
    "X_train.ndim"
   ]
  },
  {
   "cell_type": "code",
   "execution_count": 13,
   "id": "5060ad23",
   "metadata": {
    "execution": {
     "iopub.execute_input": "2025-05-12T08:03:05.245061Z",
     "iopub.status.busy": "2025-05-12T08:03:05.244886Z",
     "iopub.status.idle": "2025-05-12T08:03:05.395782Z",
     "shell.execute_reply": "2025-05-12T08:03:05.395062Z"
    },
    "papermill": {
     "duration": 0.159104,
     "end_time": "2025-05-12T08:03:05.397155",
     "exception": false,
     "start_time": "2025-05-12T08:03:05.238051",
     "status": "completed"
    },
    "tags": []
   },
   "outputs": [],
   "source": [
    "X_train = X_train/255\n",
    "X_test = X_test/255"
   ]
  },
  {
   "cell_type": "code",
   "execution_count": 14,
   "id": "fd470cad",
   "metadata": {
    "execution": {
     "iopub.execute_input": "2025-05-12T08:03:05.411799Z",
     "iopub.status.busy": "2025-05-12T08:03:05.411099Z",
     "iopub.status.idle": "2025-05-12T08:03:05.421290Z",
     "shell.execute_reply": "2025-05-12T08:03:05.420617Z"
    },
    "papermill": {
     "duration": 0.018269,
     "end_time": "2025-05-12T08:03:05.422375",
     "exception": false,
     "start_time": "2025-05-12T08:03:05.404106",
     "status": "completed"
    },
    "tags": []
   },
   "outputs": [
    {
     "data": {
      "text/plain": [
       "array([[[0.        ],\n",
       "        [0.        ],\n",
       "        [0.        ],\n",
       "        [0.        ],\n",
       "        [0.        ],\n",
       "        [0.        ],\n",
       "        [0.        ],\n",
       "        [0.        ],\n",
       "        [0.        ],\n",
       "        [0.        ],\n",
       "        [0.        ],\n",
       "        [0.        ],\n",
       "        [0.        ],\n",
       "        [0.        ],\n",
       "        [0.        ],\n",
       "        [0.        ],\n",
       "        [0.        ],\n",
       "        [0.        ],\n",
       "        [0.        ],\n",
       "        [0.        ],\n",
       "        [0.        ],\n",
       "        [0.        ],\n",
       "        [0.        ],\n",
       "        [0.        ],\n",
       "        [0.        ],\n",
       "        [0.        ],\n",
       "        [0.        ],\n",
       "        [0.        ]],\n",
       "\n",
       "       [[0.        ],\n",
       "        [0.        ],\n",
       "        [0.        ],\n",
       "        [0.        ],\n",
       "        [0.        ],\n",
       "        [0.        ],\n",
       "        [0.        ],\n",
       "        [0.        ],\n",
       "        [0.        ],\n",
       "        [0.        ],\n",
       "        [0.        ],\n",
       "        [0.        ],\n",
       "        [0.        ],\n",
       "        [0.        ],\n",
       "        [0.        ],\n",
       "        [0.        ],\n",
       "        [0.        ],\n",
       "        [0.        ],\n",
       "        [0.        ],\n",
       "        [0.        ],\n",
       "        [0.        ],\n",
       "        [0.        ],\n",
       "        [0.        ],\n",
       "        [0.        ],\n",
       "        [0.        ],\n",
       "        [0.        ],\n",
       "        [0.        ],\n",
       "        [0.        ]],\n",
       "\n",
       "       [[0.        ],\n",
       "        [0.        ],\n",
       "        [0.        ],\n",
       "        [0.        ],\n",
       "        [0.        ],\n",
       "        [0.        ],\n",
       "        [0.        ],\n",
       "        [0.        ],\n",
       "        [0.        ],\n",
       "        [0.        ],\n",
       "        [0.        ],\n",
       "        [0.        ],\n",
       "        [0.        ],\n",
       "        [0.        ],\n",
       "        [0.        ],\n",
       "        [0.        ],\n",
       "        [0.        ],\n",
       "        [0.        ],\n",
       "        [0.        ],\n",
       "        [0.        ],\n",
       "        [0.        ],\n",
       "        [0.        ],\n",
       "        [0.        ],\n",
       "        [0.        ],\n",
       "        [0.        ],\n",
       "        [0.        ],\n",
       "        [0.        ],\n",
       "        [0.        ]],\n",
       "\n",
       "       [[0.        ],\n",
       "        [0.        ],\n",
       "        [0.        ],\n",
       "        [0.        ],\n",
       "        [0.        ],\n",
       "        [0.        ],\n",
       "        [0.        ],\n",
       "        [0.        ],\n",
       "        [0.        ],\n",
       "        [0.        ],\n",
       "        [0.        ],\n",
       "        [0.        ],\n",
       "        [0.00392157],\n",
       "        [0.        ],\n",
       "        [0.        ],\n",
       "        [0.05098039],\n",
       "        [0.28627451],\n",
       "        [0.        ],\n",
       "        [0.        ],\n",
       "        [0.00392157],\n",
       "        [0.01568627],\n",
       "        [0.        ],\n",
       "        [0.        ],\n",
       "        [0.        ],\n",
       "        [0.        ],\n",
       "        [0.00392157],\n",
       "        [0.00392157],\n",
       "        [0.        ]],\n",
       "\n",
       "       [[0.        ],\n",
       "        [0.        ],\n",
       "        [0.        ],\n",
       "        [0.        ],\n",
       "        [0.        ],\n",
       "        [0.        ],\n",
       "        [0.        ],\n",
       "        [0.        ],\n",
       "        [0.        ],\n",
       "        [0.        ],\n",
       "        [0.        ],\n",
       "        [0.        ],\n",
       "        [0.01176471],\n",
       "        [0.        ],\n",
       "        [0.14117647],\n",
       "        [0.53333333],\n",
       "        [0.49803922],\n",
       "        [0.24313725],\n",
       "        [0.21176471],\n",
       "        [0.        ],\n",
       "        [0.        ],\n",
       "        [0.        ],\n",
       "        [0.00392157],\n",
       "        [0.01176471],\n",
       "        [0.01568627],\n",
       "        [0.        ],\n",
       "        [0.        ],\n",
       "        [0.01176471]],\n",
       "\n",
       "       [[0.        ],\n",
       "        [0.        ],\n",
       "        [0.        ],\n",
       "        [0.        ],\n",
       "        [0.        ],\n",
       "        [0.        ],\n",
       "        [0.        ],\n",
       "        [0.        ],\n",
       "        [0.        ],\n",
       "        [0.        ],\n",
       "        [0.        ],\n",
       "        [0.        ],\n",
       "        [0.02352941],\n",
       "        [0.        ],\n",
       "        [0.4       ],\n",
       "        [0.8       ],\n",
       "        [0.69019608],\n",
       "        [0.5254902 ],\n",
       "        [0.56470588],\n",
       "        [0.48235294],\n",
       "        [0.09019608],\n",
       "        [0.        ],\n",
       "        [0.        ],\n",
       "        [0.        ],\n",
       "        [0.        ],\n",
       "        [0.04705882],\n",
       "        [0.03921569],\n",
       "        [0.        ]],\n",
       "\n",
       "       [[0.        ],\n",
       "        [0.        ],\n",
       "        [0.        ],\n",
       "        [0.        ],\n",
       "        [0.        ],\n",
       "        [0.        ],\n",
       "        [0.        ],\n",
       "        [0.        ],\n",
       "        [0.        ],\n",
       "        [0.        ],\n",
       "        [0.        ],\n",
       "        [0.        ],\n",
       "        [0.        ],\n",
       "        [0.        ],\n",
       "        [0.60784314],\n",
       "        [0.9254902 ],\n",
       "        [0.81176471],\n",
       "        [0.69803922],\n",
       "        [0.41960784],\n",
       "        [0.61176471],\n",
       "        [0.63137255],\n",
       "        [0.42745098],\n",
       "        [0.25098039],\n",
       "        [0.09019608],\n",
       "        [0.30196078],\n",
       "        [0.50980392],\n",
       "        [0.28235294],\n",
       "        [0.05882353]],\n",
       "\n",
       "       [[0.        ],\n",
       "        [0.        ],\n",
       "        [0.        ],\n",
       "        [0.        ],\n",
       "        [0.        ],\n",
       "        [0.        ],\n",
       "        [0.        ],\n",
       "        [0.        ],\n",
       "        [0.        ],\n",
       "        [0.        ],\n",
       "        [0.        ],\n",
       "        [0.00392157],\n",
       "        [0.        ],\n",
       "        [0.27058824],\n",
       "        [0.81176471],\n",
       "        [0.8745098 ],\n",
       "        [0.85490196],\n",
       "        [0.84705882],\n",
       "        [0.84705882],\n",
       "        [0.63921569],\n",
       "        [0.49803922],\n",
       "        [0.4745098 ],\n",
       "        [0.47843137],\n",
       "        [0.57254902],\n",
       "        [0.55294118],\n",
       "        [0.34509804],\n",
       "        [0.6745098 ],\n",
       "        [0.25882353]],\n",
       "\n",
       "       [[0.        ],\n",
       "        [0.        ],\n",
       "        [0.        ],\n",
       "        [0.        ],\n",
       "        [0.        ],\n",
       "        [0.        ],\n",
       "        [0.        ],\n",
       "        [0.        ],\n",
       "        [0.        ],\n",
       "        [0.00392157],\n",
       "        [0.00392157],\n",
       "        [0.00392157],\n",
       "        [0.        ],\n",
       "        [0.78431373],\n",
       "        [0.90980392],\n",
       "        [0.90980392],\n",
       "        [0.91372549],\n",
       "        [0.89803922],\n",
       "        [0.8745098 ],\n",
       "        [0.8745098 ],\n",
       "        [0.84313725],\n",
       "        [0.83529412],\n",
       "        [0.64313725],\n",
       "        [0.49803922],\n",
       "        [0.48235294],\n",
       "        [0.76862745],\n",
       "        [0.89803922],\n",
       "        [0.        ]],\n",
       "\n",
       "       [[0.        ],\n",
       "        [0.        ],\n",
       "        [0.        ],\n",
       "        [0.        ],\n",
       "        [0.        ],\n",
       "        [0.        ],\n",
       "        [0.        ],\n",
       "        [0.        ],\n",
       "        [0.        ],\n",
       "        [0.        ],\n",
       "        [0.        ],\n",
       "        [0.        ],\n",
       "        [0.        ],\n",
       "        [0.71764706],\n",
       "        [0.88235294],\n",
       "        [0.84705882],\n",
       "        [0.8745098 ],\n",
       "        [0.89411765],\n",
       "        [0.92156863],\n",
       "        [0.89019608],\n",
       "        [0.87843137],\n",
       "        [0.87058824],\n",
       "        [0.87843137],\n",
       "        [0.86666667],\n",
       "        [0.8745098 ],\n",
       "        [0.96078431],\n",
       "        [0.67843137],\n",
       "        [0.        ]],\n",
       "\n",
       "       [[0.        ],\n",
       "        [0.        ],\n",
       "        [0.        ],\n",
       "        [0.        ],\n",
       "        [0.        ],\n",
       "        [0.        ],\n",
       "        [0.        ],\n",
       "        [0.        ],\n",
       "        [0.        ],\n",
       "        [0.        ],\n",
       "        [0.        ],\n",
       "        [0.        ],\n",
       "        [0.        ],\n",
       "        [0.75686275],\n",
       "        [0.89411765],\n",
       "        [0.85490196],\n",
       "        [0.83529412],\n",
       "        [0.77647059],\n",
       "        [0.70588235],\n",
       "        [0.83137255],\n",
       "        [0.82352941],\n",
       "        [0.82745098],\n",
       "        [0.83529412],\n",
       "        [0.8745098 ],\n",
       "        [0.8627451 ],\n",
       "        [0.95294118],\n",
       "        [0.79215686],\n",
       "        [0.        ]],\n",
       "\n",
       "       [[0.        ],\n",
       "        [0.        ],\n",
       "        [0.        ],\n",
       "        [0.        ],\n",
       "        [0.        ],\n",
       "        [0.        ],\n",
       "        [0.        ],\n",
       "        [0.        ],\n",
       "        [0.        ],\n",
       "        [0.00392157],\n",
       "        [0.01176471],\n",
       "        [0.        ],\n",
       "        [0.04705882],\n",
       "        [0.85882353],\n",
       "        [0.8627451 ],\n",
       "        [0.83137255],\n",
       "        [0.85490196],\n",
       "        [0.75294118],\n",
       "        [0.6627451 ],\n",
       "        [0.89019608],\n",
       "        [0.81568627],\n",
       "        [0.85490196],\n",
       "        [0.87843137],\n",
       "        [0.83137255],\n",
       "        [0.88627451],\n",
       "        [0.77254902],\n",
       "        [0.81960784],\n",
       "        [0.20392157]],\n",
       "\n",
       "       [[0.        ],\n",
       "        [0.        ],\n",
       "        [0.        ],\n",
       "        [0.        ],\n",
       "        [0.        ],\n",
       "        [0.        ],\n",
       "        [0.        ],\n",
       "        [0.        ],\n",
       "        [0.        ],\n",
       "        [0.        ],\n",
       "        [0.02352941],\n",
       "        [0.        ],\n",
       "        [0.38823529],\n",
       "        [0.95686275],\n",
       "        [0.87058824],\n",
       "        [0.8627451 ],\n",
       "        [0.85490196],\n",
       "        [0.79607843],\n",
       "        [0.77647059],\n",
       "        [0.86666667],\n",
       "        [0.84313725],\n",
       "        [0.83529412],\n",
       "        [0.87058824],\n",
       "        [0.8627451 ],\n",
       "        [0.96078431],\n",
       "        [0.46666667],\n",
       "        [0.65490196],\n",
       "        [0.21960784]],\n",
       "\n",
       "       [[0.        ],\n",
       "        [0.        ],\n",
       "        [0.        ],\n",
       "        [0.        ],\n",
       "        [0.        ],\n",
       "        [0.        ],\n",
       "        [0.        ],\n",
       "        [0.        ],\n",
       "        [0.        ],\n",
       "        [0.01568627],\n",
       "        [0.        ],\n",
       "        [0.        ],\n",
       "        [0.21568627],\n",
       "        [0.9254902 ],\n",
       "        [0.89411765],\n",
       "        [0.90196078],\n",
       "        [0.89411765],\n",
       "        [0.94117647],\n",
       "        [0.90980392],\n",
       "        [0.83529412],\n",
       "        [0.85490196],\n",
       "        [0.8745098 ],\n",
       "        [0.91764706],\n",
       "        [0.85098039],\n",
       "        [0.85098039],\n",
       "        [0.81960784],\n",
       "        [0.36078431],\n",
       "        [0.        ]],\n",
       "\n",
       "       [[0.        ],\n",
       "        [0.        ],\n",
       "        [0.00392157],\n",
       "        [0.01568627],\n",
       "        [0.02352941],\n",
       "        [0.02745098],\n",
       "        [0.00784314],\n",
       "        [0.        ],\n",
       "        [0.        ],\n",
       "        [0.        ],\n",
       "        [0.        ],\n",
       "        [0.        ],\n",
       "        [0.92941176],\n",
       "        [0.88627451],\n",
       "        [0.85098039],\n",
       "        [0.8745098 ],\n",
       "        [0.87058824],\n",
       "        [0.85882353],\n",
       "        [0.87058824],\n",
       "        [0.86666667],\n",
       "        [0.84705882],\n",
       "        [0.8745098 ],\n",
       "        [0.89803922],\n",
       "        [0.84313725],\n",
       "        [0.85490196],\n",
       "        [1.        ],\n",
       "        [0.30196078],\n",
       "        [0.        ]],\n",
       "\n",
       "       [[0.        ],\n",
       "        [0.01176471],\n",
       "        [0.        ],\n",
       "        [0.        ],\n",
       "        [0.        ],\n",
       "        [0.        ],\n",
       "        [0.        ],\n",
       "        [0.        ],\n",
       "        [0.        ],\n",
       "        [0.24313725],\n",
       "        [0.56862745],\n",
       "        [0.8       ],\n",
       "        [0.89411765],\n",
       "        [0.81176471],\n",
       "        [0.83529412],\n",
       "        [0.86666667],\n",
       "        [0.85490196],\n",
       "        [0.81568627],\n",
       "        [0.82745098],\n",
       "        [0.85490196],\n",
       "        [0.87843137],\n",
       "        [0.8745098 ],\n",
       "        [0.85882353],\n",
       "        [0.84313725],\n",
       "        [0.87843137],\n",
       "        [0.95686275],\n",
       "        [0.62352941],\n",
       "        [0.        ]],\n",
       "\n",
       "       [[0.        ],\n",
       "        [0.        ],\n",
       "        [0.        ],\n",
       "        [0.        ],\n",
       "        [0.07058824],\n",
       "        [0.17254902],\n",
       "        [0.32156863],\n",
       "        [0.41960784],\n",
       "        [0.74117647],\n",
       "        [0.89411765],\n",
       "        [0.8627451 ],\n",
       "        [0.87058824],\n",
       "        [0.85098039],\n",
       "        [0.88627451],\n",
       "        [0.78431373],\n",
       "        [0.80392157],\n",
       "        [0.82745098],\n",
       "        [0.90196078],\n",
       "        [0.87843137],\n",
       "        [0.91764706],\n",
       "        [0.69019608],\n",
       "        [0.7372549 ],\n",
       "        [0.98039216],\n",
       "        [0.97254902],\n",
       "        [0.91372549],\n",
       "        [0.93333333],\n",
       "        [0.84313725],\n",
       "        [0.        ]],\n",
       "\n",
       "       [[0.        ],\n",
       "        [0.22352941],\n",
       "        [0.73333333],\n",
       "        [0.81568627],\n",
       "        [0.87843137],\n",
       "        [0.86666667],\n",
       "        [0.87843137],\n",
       "        [0.81568627],\n",
       "        [0.8       ],\n",
       "        [0.83921569],\n",
       "        [0.81568627],\n",
       "        [0.81960784],\n",
       "        [0.78431373],\n",
       "        [0.62352941],\n",
       "        [0.96078431],\n",
       "        [0.75686275],\n",
       "        [0.80784314],\n",
       "        [0.8745098 ],\n",
       "        [1.        ],\n",
       "        [1.        ],\n",
       "        [0.86666667],\n",
       "        [0.91764706],\n",
       "        [0.86666667],\n",
       "        [0.82745098],\n",
       "        [0.8627451 ],\n",
       "        [0.90980392],\n",
       "        [0.96470588],\n",
       "        [0.        ]],\n",
       "\n",
       "       [[0.01176471],\n",
       "        [0.79215686],\n",
       "        [0.89411765],\n",
       "        [0.87843137],\n",
       "        [0.86666667],\n",
       "        [0.82745098],\n",
       "        [0.82745098],\n",
       "        [0.83921569],\n",
       "        [0.80392157],\n",
       "        [0.80392157],\n",
       "        [0.80392157],\n",
       "        [0.8627451 ],\n",
       "        [0.94117647],\n",
       "        [0.31372549],\n",
       "        [0.58823529],\n",
       "        [1.        ],\n",
       "        [0.89803922],\n",
       "        [0.86666667],\n",
       "        [0.7372549 ],\n",
       "        [0.60392157],\n",
       "        [0.74901961],\n",
       "        [0.82352941],\n",
       "        [0.8       ],\n",
       "        [0.81960784],\n",
       "        [0.87058824],\n",
       "        [0.89411765],\n",
       "        [0.88235294],\n",
       "        [0.        ]],\n",
       "\n",
       "       [[0.38431373],\n",
       "        [0.91372549],\n",
       "        [0.77647059],\n",
       "        [0.82352941],\n",
       "        [0.87058824],\n",
       "        [0.89803922],\n",
       "        [0.89803922],\n",
       "        [0.91764706],\n",
       "        [0.97647059],\n",
       "        [0.8627451 ],\n",
       "        [0.76078431],\n",
       "        [0.84313725],\n",
       "        [0.85098039],\n",
       "        [0.94509804],\n",
       "        [0.25490196],\n",
       "        [0.28627451],\n",
       "        [0.41568627],\n",
       "        [0.45882353],\n",
       "        [0.65882353],\n",
       "        [0.85882353],\n",
       "        [0.86666667],\n",
       "        [0.84313725],\n",
       "        [0.85098039],\n",
       "        [0.8745098 ],\n",
       "        [0.8745098 ],\n",
       "        [0.87843137],\n",
       "        [0.89803922],\n",
       "        [0.11372549]],\n",
       "\n",
       "       [[0.29411765],\n",
       "        [0.8       ],\n",
       "        [0.83137255],\n",
       "        [0.8       ],\n",
       "        [0.75686275],\n",
       "        [0.80392157],\n",
       "        [0.82745098],\n",
       "        [0.88235294],\n",
       "        [0.84705882],\n",
       "        [0.7254902 ],\n",
       "        [0.77254902],\n",
       "        [0.80784314],\n",
       "        [0.77647059],\n",
       "        [0.83529412],\n",
       "        [0.94117647],\n",
       "        [0.76470588],\n",
       "        [0.89019608],\n",
       "        [0.96078431],\n",
       "        [0.9372549 ],\n",
       "        [0.8745098 ],\n",
       "        [0.85490196],\n",
       "        [0.83137255],\n",
       "        [0.81960784],\n",
       "        [0.87058824],\n",
       "        [0.8627451 ],\n",
       "        [0.86666667],\n",
       "        [0.90196078],\n",
       "        [0.2627451 ]],\n",
       "\n",
       "       [[0.18823529],\n",
       "        [0.79607843],\n",
       "        [0.71764706],\n",
       "        [0.76078431],\n",
       "        [0.83529412],\n",
       "        [0.77254902],\n",
       "        [0.7254902 ],\n",
       "        [0.74509804],\n",
       "        [0.76078431],\n",
       "        [0.75294118],\n",
       "        [0.79215686],\n",
       "        [0.83921569],\n",
       "        [0.85882353],\n",
       "        [0.86666667],\n",
       "        [0.8627451 ],\n",
       "        [0.9254902 ],\n",
       "        [0.88235294],\n",
       "        [0.84705882],\n",
       "        [0.78039216],\n",
       "        [0.80784314],\n",
       "        [0.72941176],\n",
       "        [0.70980392],\n",
       "        [0.69411765],\n",
       "        [0.6745098 ],\n",
       "        [0.70980392],\n",
       "        [0.80392157],\n",
       "        [0.80784314],\n",
       "        [0.45098039]],\n",
       "\n",
       "       [[0.        ],\n",
       "        [0.47843137],\n",
       "        [0.85882353],\n",
       "        [0.75686275],\n",
       "        [0.70196078],\n",
       "        [0.67058824],\n",
       "        [0.71764706],\n",
       "        [0.76862745],\n",
       "        [0.8       ],\n",
       "        [0.82352941],\n",
       "        [0.83529412],\n",
       "        [0.81176471],\n",
       "        [0.82745098],\n",
       "        [0.82352941],\n",
       "        [0.78431373],\n",
       "        [0.76862745],\n",
       "        [0.76078431],\n",
       "        [0.74901961],\n",
       "        [0.76470588],\n",
       "        [0.74901961],\n",
       "        [0.77647059],\n",
       "        [0.75294118],\n",
       "        [0.69019608],\n",
       "        [0.61176471],\n",
       "        [0.65490196],\n",
       "        [0.69411765],\n",
       "        [0.82352941],\n",
       "        [0.36078431]],\n",
       "\n",
       "       [[0.        ],\n",
       "        [0.        ],\n",
       "        [0.29019608],\n",
       "        [0.74117647],\n",
       "        [0.83137255],\n",
       "        [0.74901961],\n",
       "        [0.68627451],\n",
       "        [0.6745098 ],\n",
       "        [0.68627451],\n",
       "        [0.70980392],\n",
       "        [0.7254902 ],\n",
       "        [0.7372549 ],\n",
       "        [0.74117647],\n",
       "        [0.7372549 ],\n",
       "        [0.75686275],\n",
       "        [0.77647059],\n",
       "        [0.8       ],\n",
       "        [0.81960784],\n",
       "        [0.82352941],\n",
       "        [0.82352941],\n",
       "        [0.82745098],\n",
       "        [0.7372549 ],\n",
       "        [0.7372549 ],\n",
       "        [0.76078431],\n",
       "        [0.75294118],\n",
       "        [0.84705882],\n",
       "        [0.66666667],\n",
       "        [0.        ]],\n",
       "\n",
       "       [[0.00784314],\n",
       "        [0.        ],\n",
       "        [0.        ],\n",
       "        [0.        ],\n",
       "        [0.25882353],\n",
       "        [0.78431373],\n",
       "        [0.87058824],\n",
       "        [0.92941176],\n",
       "        [0.9372549 ],\n",
       "        [0.94901961],\n",
       "        [0.96470588],\n",
       "        [0.95294118],\n",
       "        [0.95686275],\n",
       "        [0.86666667],\n",
       "        [0.8627451 ],\n",
       "        [0.75686275],\n",
       "        [0.74901961],\n",
       "        [0.70196078],\n",
       "        [0.71372549],\n",
       "        [0.71372549],\n",
       "        [0.70980392],\n",
       "        [0.69019608],\n",
       "        [0.65098039],\n",
       "        [0.65882353],\n",
       "        [0.38823529],\n",
       "        [0.22745098],\n",
       "        [0.        ],\n",
       "        [0.        ]],\n",
       "\n",
       "       [[0.        ],\n",
       "        [0.        ],\n",
       "        [0.        ],\n",
       "        [0.        ],\n",
       "        [0.        ],\n",
       "        [0.        ],\n",
       "        [0.        ],\n",
       "        [0.15686275],\n",
       "        [0.23921569],\n",
       "        [0.17254902],\n",
       "        [0.28235294],\n",
       "        [0.16078431],\n",
       "        [0.1372549 ],\n",
       "        [0.        ],\n",
       "        [0.        ],\n",
       "        [0.        ],\n",
       "        [0.        ],\n",
       "        [0.        ],\n",
       "        [0.        ],\n",
       "        [0.        ],\n",
       "        [0.        ],\n",
       "        [0.        ],\n",
       "        [0.        ],\n",
       "        [0.        ],\n",
       "        [0.        ],\n",
       "        [0.        ],\n",
       "        [0.        ],\n",
       "        [0.        ]],\n",
       "\n",
       "       [[0.        ],\n",
       "        [0.        ],\n",
       "        [0.        ],\n",
       "        [0.        ],\n",
       "        [0.        ],\n",
       "        [0.        ],\n",
       "        [0.        ],\n",
       "        [0.        ],\n",
       "        [0.        ],\n",
       "        [0.        ],\n",
       "        [0.        ],\n",
       "        [0.        ],\n",
       "        [0.        ],\n",
       "        [0.        ],\n",
       "        [0.        ],\n",
       "        [0.        ],\n",
       "        [0.        ],\n",
       "        [0.        ],\n",
       "        [0.        ],\n",
       "        [0.        ],\n",
       "        [0.        ],\n",
       "        [0.        ],\n",
       "        [0.        ],\n",
       "        [0.        ],\n",
       "        [0.        ],\n",
       "        [0.        ],\n",
       "        [0.        ],\n",
       "        [0.        ]],\n",
       "\n",
       "       [[0.        ],\n",
       "        [0.        ],\n",
       "        [0.        ],\n",
       "        [0.        ],\n",
       "        [0.        ],\n",
       "        [0.        ],\n",
       "        [0.        ],\n",
       "        [0.        ],\n",
       "        [0.        ],\n",
       "        [0.        ],\n",
       "        [0.        ],\n",
       "        [0.        ],\n",
       "        [0.        ],\n",
       "        [0.        ],\n",
       "        [0.        ],\n",
       "        [0.        ],\n",
       "        [0.        ],\n",
       "        [0.        ],\n",
       "        [0.        ],\n",
       "        [0.        ],\n",
       "        [0.        ],\n",
       "        [0.        ],\n",
       "        [0.        ],\n",
       "        [0.        ],\n",
       "        [0.        ],\n",
       "        [0.        ],\n",
       "        [0.        ],\n",
       "        [0.        ]]])"
      ]
     },
     "execution_count": 14,
     "metadata": {},
     "output_type": "execute_result"
    }
   ],
   "source": [
    "X_train[0]"
   ]
  },
  {
   "cell_type": "code",
   "execution_count": 15,
   "id": "9adc8fd8",
   "metadata": {
    "execution": {
     "iopub.execute_input": "2025-05-12T08:03:05.437163Z",
     "iopub.status.busy": "2025-05-12T08:03:05.436968Z",
     "iopub.status.idle": "2025-05-12T08:03:05.763074Z",
     "shell.execute_reply": "2025-05-12T08:03:05.762179Z"
    },
    "papermill": {
     "duration": 0.334999,
     "end_time": "2025-05-12T08:03:05.764561",
     "exception": false,
     "start_time": "2025-05-12T08:03:05.429562",
     "status": "completed"
    },
    "tags": []
   },
   "outputs": [],
   "source": [
    "from sklearn.model_selection import train_test_split\n",
    "X_train,X_val,y_train,y_val = train_test_split(X_train,y_train,test_size=0.2, random_state =2020)"
   ]
  },
  {
   "cell_type": "code",
   "execution_count": 16,
   "id": "decef63a",
   "metadata": {
    "execution": {
     "iopub.execute_input": "2025-05-12T08:03:05.779850Z",
     "iopub.status.busy": "2025-05-12T08:03:05.779585Z",
     "iopub.status.idle": "2025-05-12T08:03:05.784061Z",
     "shell.execute_reply": "2025-05-12T08:03:05.783385Z"
    },
    "papermill": {
     "duration": 0.013099,
     "end_time": "2025-05-12T08:03:05.785169",
     "exception": false,
     "start_time": "2025-05-12T08:03:05.772070",
     "status": "completed"
    },
    "tags": []
   },
   "outputs": [
    {
     "data": {
      "text/plain": [
       "(48000, 28, 28, 1)"
      ]
     },
     "execution_count": 16,
     "metadata": {},
     "output_type": "execute_result"
    }
   ],
   "source": [
    "X_train.shape"
   ]
  },
  {
   "cell_type": "markdown",
   "id": "ac108d4c",
   "metadata": {
    "papermill": {
     "duration": 0.006743,
     "end_time": "2025-05-12T08:03:05.798940",
     "exception": false,
     "start_time": "2025-05-12T08:03:05.792197",
     "status": "completed"
    },
    "tags": []
   },
   "source": [
    "## CNN"
   ]
  },
  {
   "cell_type": "code",
   "execution_count": 17,
   "id": "d0e73ddc",
   "metadata": {
    "execution": {
     "iopub.execute_input": "2025-05-12T08:03:05.813540Z",
     "iopub.status.busy": "2025-05-12T08:03:05.813342Z",
     "iopub.status.idle": "2025-05-12T08:03:08.256823Z",
     "shell.execute_reply": "2025-05-12T08:03:08.256225Z"
    },
    "papermill": {
     "duration": 2.452311,
     "end_time": "2025-05-12T08:03:08.258178",
     "exception": false,
     "start_time": "2025-05-12T08:03:05.805867",
     "status": "completed"
    },
    "tags": []
   },
   "outputs": [
    {
     "name": "stderr",
     "output_type": "stream",
     "text": [
      "/usr/local/lib/python3.11/dist-packages/keras/src/layers/convolutional/base_conv.py:107: UserWarning: Do not pass an `input_shape`/`input_dim` argument to a layer. When using Sequential models, prefer using an `Input(shape)` object as the first layer in the model instead.\n",
      "  super().__init__(activity_regularizer=activity_regularizer, **kwargs)\n",
      "I0000 00:00:1747036987.056065      19 gpu_device.cc:2022] Created device /job:localhost/replica:0/task:0/device:GPU:0 with 13942 MB memory:  -> device: 0, name: Tesla T4, pci bus id: 0000:00:04.0, compute capability: 7.5\n",
      "I0000 00:00:1747036987.056866      19 gpu_device.cc:2022] Created device /job:localhost/replica:0/task:0/device:GPU:1 with 13942 MB memory:  -> device: 1, name: Tesla T4, pci bus id: 0000:00:05.0, compute capability: 7.5\n"
     ]
    }
   ],
   "source": [
    "model = keras.models.Sequential([\n",
    "    keras.layers.Conv2D(filters=32,kernel_size=3,strides=(1,1),padding='valid',activation='relu',input_shape=[28,28,1]),\n",
    "    keras.layers.MaxPooling2D(pool_size=(2,2)),\n",
    "    keras.layers.Flatten(),\n",
    "    keras.layers.Dense(units=128,activation='relu'),\n",
    "    keras.layers.Dense(units=10,activation='softmax'),\n",
    "])"
   ]
  },
  {
   "cell_type": "code",
   "execution_count": 18,
   "id": "b51e13b4",
   "metadata": {
    "execution": {
     "iopub.execute_input": "2025-05-12T08:03:08.274317Z",
     "iopub.status.busy": "2025-05-12T08:03:08.274109Z",
     "iopub.status.idle": "2025-05-12T08:03:08.287461Z",
     "shell.execute_reply": "2025-05-12T08:03:08.286802Z"
    },
    "papermill": {
     "duration": 0.022556,
     "end_time": "2025-05-12T08:03:08.288548",
     "exception": false,
     "start_time": "2025-05-12T08:03:08.265992",
     "status": "completed"
    },
    "tags": []
   },
   "outputs": [
    {
     "data": {
      "text/html": [
       "<pre style=\"white-space:pre;overflow-x:auto;line-height:normal;font-family:Menlo,'DejaVu Sans Mono',consolas,'Courier New',monospace\"><span style=\"font-weight: bold\">Model: \"sequential\"</span>\n",
       "</pre>\n"
      ],
      "text/plain": [
       "\u001b[1mModel: \"sequential\"\u001b[0m\n"
      ]
     },
     "metadata": {},
     "output_type": "display_data"
    },
    {
     "data": {
      "text/html": [
       "<pre style=\"white-space:pre;overflow-x:auto;line-height:normal;font-family:Menlo,'DejaVu Sans Mono',consolas,'Courier New',monospace\">┏━━━━━━━━━━━━━━━━━━━━━━━━━━━━━━━━━━━━━━┳━━━━━━━━━━━━━━━━━━━━━━━━━━━━━┳━━━━━━━━━━━━━━━━━┓\n",
       "┃<span style=\"font-weight: bold\"> Layer (type)                         </span>┃<span style=\"font-weight: bold\"> Output Shape                </span>┃<span style=\"font-weight: bold\">         Param # </span>┃\n",
       "┡━━━━━━━━━━━━━━━━━━━━━━━━━━━━━━━━━━━━━━╇━━━━━━━━━━━━━━━━━━━━━━━━━━━━━╇━━━━━━━━━━━━━━━━━┩\n",
       "│ conv2d (<span style=\"color: #0087ff; text-decoration-color: #0087ff\">Conv2D</span>)                      │ (<span style=\"color: #00d7ff; text-decoration-color: #00d7ff\">None</span>, <span style=\"color: #00af00; text-decoration-color: #00af00\">26</span>, <span style=\"color: #00af00; text-decoration-color: #00af00\">26</span>, <span style=\"color: #00af00; text-decoration-color: #00af00\">32</span>)          │             <span style=\"color: #00af00; text-decoration-color: #00af00\">320</span> │\n",
       "├──────────────────────────────────────┼─────────────────────────────┼─────────────────┤\n",
       "│ max_pooling2d (<span style=\"color: #0087ff; text-decoration-color: #0087ff\">MaxPooling2D</span>)         │ (<span style=\"color: #00d7ff; text-decoration-color: #00d7ff\">None</span>, <span style=\"color: #00af00; text-decoration-color: #00af00\">13</span>, <span style=\"color: #00af00; text-decoration-color: #00af00\">13</span>, <span style=\"color: #00af00; text-decoration-color: #00af00\">32</span>)          │               <span style=\"color: #00af00; text-decoration-color: #00af00\">0</span> │\n",
       "├──────────────────────────────────────┼─────────────────────────────┼─────────────────┤\n",
       "│ flatten (<span style=\"color: #0087ff; text-decoration-color: #0087ff\">Flatten</span>)                    │ (<span style=\"color: #00d7ff; text-decoration-color: #00d7ff\">None</span>, <span style=\"color: #00af00; text-decoration-color: #00af00\">5408</span>)                │               <span style=\"color: #00af00; text-decoration-color: #00af00\">0</span> │\n",
       "├──────────────────────────────────────┼─────────────────────────────┼─────────────────┤\n",
       "│ dense (<span style=\"color: #0087ff; text-decoration-color: #0087ff\">Dense</span>)                        │ (<span style=\"color: #00d7ff; text-decoration-color: #00d7ff\">None</span>, <span style=\"color: #00af00; text-decoration-color: #00af00\">128</span>)                 │         <span style=\"color: #00af00; text-decoration-color: #00af00\">692,352</span> │\n",
       "├──────────────────────────────────────┼─────────────────────────────┼─────────────────┤\n",
       "│ dense_1 (<span style=\"color: #0087ff; text-decoration-color: #0087ff\">Dense</span>)                      │ (<span style=\"color: #00d7ff; text-decoration-color: #00d7ff\">None</span>, <span style=\"color: #00af00; text-decoration-color: #00af00\">10</span>)                  │           <span style=\"color: #00af00; text-decoration-color: #00af00\">1,290</span> │\n",
       "└──────────────────────────────────────┴─────────────────────────────┴─────────────────┘\n",
       "</pre>\n"
      ],
      "text/plain": [
       "┏━━━━━━━━━━━━━━━━━━━━━━━━━━━━━━━━━━━━━━┳━━━━━━━━━━━━━━━━━━━━━━━━━━━━━┳━━━━━━━━━━━━━━━━━┓\n",
       "┃\u001b[1m \u001b[0m\u001b[1mLayer (type)                        \u001b[0m\u001b[1m \u001b[0m┃\u001b[1m \u001b[0m\u001b[1mOutput Shape               \u001b[0m\u001b[1m \u001b[0m┃\u001b[1m \u001b[0m\u001b[1m        Param #\u001b[0m\u001b[1m \u001b[0m┃\n",
       "┡━━━━━━━━━━━━━━━━━━━━━━━━━━━━━━━━━━━━━━╇━━━━━━━━━━━━━━━━━━━━━━━━━━━━━╇━━━━━━━━━━━━━━━━━┩\n",
       "│ conv2d (\u001b[38;5;33mConv2D\u001b[0m)                      │ (\u001b[38;5;45mNone\u001b[0m, \u001b[38;5;34m26\u001b[0m, \u001b[38;5;34m26\u001b[0m, \u001b[38;5;34m32\u001b[0m)          │             \u001b[38;5;34m320\u001b[0m │\n",
       "├──────────────────────────────────────┼─────────────────────────────┼─────────────────┤\n",
       "│ max_pooling2d (\u001b[38;5;33mMaxPooling2D\u001b[0m)         │ (\u001b[38;5;45mNone\u001b[0m, \u001b[38;5;34m13\u001b[0m, \u001b[38;5;34m13\u001b[0m, \u001b[38;5;34m32\u001b[0m)          │               \u001b[38;5;34m0\u001b[0m │\n",
       "├──────────────────────────────────────┼─────────────────────────────┼─────────────────┤\n",
       "│ flatten (\u001b[38;5;33mFlatten\u001b[0m)                    │ (\u001b[38;5;45mNone\u001b[0m, \u001b[38;5;34m5408\u001b[0m)                │               \u001b[38;5;34m0\u001b[0m │\n",
       "├──────────────────────────────────────┼─────────────────────────────┼─────────────────┤\n",
       "│ dense (\u001b[38;5;33mDense\u001b[0m)                        │ (\u001b[38;5;45mNone\u001b[0m, \u001b[38;5;34m128\u001b[0m)                 │         \u001b[38;5;34m692,352\u001b[0m │\n",
       "├──────────────────────────────────────┼─────────────────────────────┼─────────────────┤\n",
       "│ dense_1 (\u001b[38;5;33mDense\u001b[0m)                      │ (\u001b[38;5;45mNone\u001b[0m, \u001b[38;5;34m10\u001b[0m)                  │           \u001b[38;5;34m1,290\u001b[0m │\n",
       "└──────────────────────────────────────┴─────────────────────────────┴─────────────────┘\n"
      ]
     },
     "metadata": {},
     "output_type": "display_data"
    },
    {
     "data": {
      "text/html": [
       "<pre style=\"white-space:pre;overflow-x:auto;line-height:normal;font-family:Menlo,'DejaVu Sans Mono',consolas,'Courier New',monospace\"><span style=\"font-weight: bold\"> Total params: </span><span style=\"color: #00af00; text-decoration-color: #00af00\">693,962</span> (2.65 MB)\n",
       "</pre>\n"
      ],
      "text/plain": [
       "\u001b[1m Total params: \u001b[0m\u001b[38;5;34m693,962\u001b[0m (2.65 MB)\n"
      ]
     },
     "metadata": {},
     "output_type": "display_data"
    },
    {
     "data": {
      "text/html": [
       "<pre style=\"white-space:pre;overflow-x:auto;line-height:normal;font-family:Menlo,'DejaVu Sans Mono',consolas,'Courier New',monospace\"><span style=\"font-weight: bold\"> Trainable params: </span><span style=\"color: #00af00; text-decoration-color: #00af00\">693,962</span> (2.65 MB)\n",
       "</pre>\n"
      ],
      "text/plain": [
       "\u001b[1m Trainable params: \u001b[0m\u001b[38;5;34m693,962\u001b[0m (2.65 MB)\n"
      ]
     },
     "metadata": {},
     "output_type": "display_data"
    },
    {
     "data": {
      "text/html": [
       "<pre style=\"white-space:pre;overflow-x:auto;line-height:normal;font-family:Menlo,'DejaVu Sans Mono',consolas,'Courier New',monospace\"><span style=\"font-weight: bold\"> Non-trainable params: </span><span style=\"color: #00af00; text-decoration-color: #00af00\">0</span> (0.00 B)\n",
       "</pre>\n"
      ],
      "text/plain": [
       "\u001b[1m Non-trainable params: \u001b[0m\u001b[38;5;34m0\u001b[0m (0.00 B)\n"
      ]
     },
     "metadata": {},
     "output_type": "display_data"
    }
   ],
   "source": [
    "model.summary()"
   ]
  },
  {
   "cell_type": "code",
   "execution_count": 19,
   "id": "d233089a",
   "metadata": {
    "execution": {
     "iopub.execute_input": "2025-05-12T08:03:08.304654Z",
     "iopub.status.busy": "2025-05-12T08:03:08.304142Z",
     "iopub.status.idle": "2025-05-12T08:03:08.314609Z",
     "shell.execute_reply": "2025-05-12T08:03:08.314161Z"
    },
    "papermill": {
     "duration": 0.019547,
     "end_time": "2025-05-12T08:03:08.315655",
     "exception": false,
     "start_time": "2025-05-12T08:03:08.296108",
     "status": "completed"
    },
    "tags": []
   },
   "outputs": [],
   "source": [
    "model.compile(optimizer='adam',loss='sparse_categorical_crossentropy',metrics=['accuracy'])"
   ]
  },
  {
   "cell_type": "code",
   "execution_count": 20,
   "id": "8c6ae3f6",
   "metadata": {
    "execution": {
     "iopub.execute_input": "2025-05-12T08:03:08.331556Z",
     "iopub.status.busy": "2025-05-12T08:03:08.331088Z",
     "iopub.status.idle": "2025-05-12T08:03:08.334997Z",
     "shell.execute_reply": "2025-05-12T08:03:08.334508Z"
    },
    "papermill": {
     "duration": 0.012908,
     "end_time": "2025-05-12T08:03:08.336011",
     "exception": false,
     "start_time": "2025-05-12T08:03:08.323103",
     "status": "completed"
    },
    "tags": []
   },
   "outputs": [
    {
     "data": {
      "text/plain": [
       "(48000, 28, 28, 1)"
      ]
     },
     "execution_count": 20,
     "metadata": {},
     "output_type": "execute_result"
    }
   ],
   "source": [
    "X_train.shape"
   ]
  },
  {
   "cell_type": "code",
   "execution_count": 21,
   "id": "8ee5b92f",
   "metadata": {
    "execution": {
     "iopub.execute_input": "2025-05-12T08:03:08.351990Z",
     "iopub.status.busy": "2025-05-12T08:03:08.351779Z",
     "iopub.status.idle": "2025-05-12T08:03:19.764062Z",
     "shell.execute_reply": "2025-05-12T08:03:19.763303Z"
    },
    "papermill": {
     "duration": 11.421469,
     "end_time": "2025-05-12T08:03:19.765247",
     "exception": false,
     "start_time": "2025-05-12T08:03:08.343778",
     "status": "completed"
    },
    "tags": []
   },
   "outputs": [
    {
     "name": "stdout",
     "output_type": "stream",
     "text": [
      "Epoch 1/10\n"
     ]
    },
    {
     "name": "stderr",
     "output_type": "stream",
     "text": [
      "WARNING: All log messages before absl::InitializeLog() is called are written to STDERR\n",
      "I0000 00:00:1747036990.134450      62 service.cc:148] XLA service 0x7f65340069d0 initialized for platform CUDA (this does not guarantee that XLA will be used). Devices:\n",
      "I0000 00:00:1747036990.135311      62 service.cc:156]   StreamExecutor device (0): Tesla T4, Compute Capability 7.5\n",
      "I0000 00:00:1747036990.135330      62 service.cc:156]   StreamExecutor device (1): Tesla T4, Compute Capability 7.5\n",
      "I0000 00:00:1747036990.329825      62 cuda_dnn.cc:529] Loaded cuDNN version 90300\n"
     ]
    },
    {
     "name": "stdout",
     "output_type": "stream",
     "text": [
      "\u001b[1m30/94\u001b[0m \u001b[32m━━━━━━\u001b[0m\u001b[37m━━━━━━━━━━━━━━\u001b[0m \u001b[1m0s\u001b[0m 5ms/step - accuracy: 0.5793 - loss: 1.3983"
     ]
    },
    {
     "name": "stderr",
     "output_type": "stream",
     "text": [
      "I0000 00:00:1747036992.150554      62 device_compiler.h:188] Compiled cluster using XLA!  This line is logged at most once for the lifetime of the process.\n"
     ]
    },
    {
     "name": "stdout",
     "output_type": "stream",
     "text": [
      "\u001b[1m94/94\u001b[0m \u001b[32m━━━━━━━━━━━━━━━━━━━━\u001b[0m\u001b[37m\u001b[0m \u001b[1m6s\u001b[0m 26ms/step - accuracy: 0.7079 - loss: 0.9403 - val_accuracy: 0.8590 - val_loss: 0.4117\n",
      "Epoch 2/10\n",
      "\u001b[1m94/94\u001b[0m \u001b[32m━━━━━━━━━━━━━━━━━━━━\u001b[0m\u001b[37m\u001b[0m \u001b[1m1s\u001b[0m 6ms/step - accuracy: 0.8674 - loss: 0.3768 - val_accuracy: 0.8725 - val_loss: 0.3606\n",
      "Epoch 3/10\n",
      "\u001b[1m94/94\u001b[0m \u001b[32m━━━━━━━━━━━━━━━━━━━━\u001b[0m\u001b[37m\u001b[0m \u001b[1m1s\u001b[0m 6ms/step - accuracy: 0.8860 - loss: 0.3242 - val_accuracy: 0.8893 - val_loss: 0.3212\n",
      "Epoch 4/10\n",
      "\u001b[1m94/94\u001b[0m \u001b[32m━━━━━━━━━━━━━━━━━━━━\u001b[0m\u001b[37m\u001b[0m \u001b[1m1s\u001b[0m 6ms/step - accuracy: 0.8991 - loss: 0.2871 - val_accuracy: 0.8936 - val_loss: 0.3052\n",
      "Epoch 5/10\n",
      "\u001b[1m94/94\u001b[0m \u001b[32m━━━━━━━━━━━━━━━━━━━━\u001b[0m\u001b[37m\u001b[0m \u001b[1m1s\u001b[0m 6ms/step - accuracy: 0.9045 - loss: 0.2696 - val_accuracy: 0.8988 - val_loss: 0.2896\n",
      "Epoch 6/10\n",
      "\u001b[1m94/94\u001b[0m \u001b[32m━━━━━━━━━━━━━━━━━━━━\u001b[0m\u001b[37m\u001b[0m \u001b[1m1s\u001b[0m 6ms/step - accuracy: 0.9120 - loss: 0.2479 - val_accuracy: 0.8932 - val_loss: 0.2996\n",
      "Epoch 7/10\n",
      "\u001b[1m94/94\u001b[0m \u001b[32m━━━━━━━━━━━━━━━━━━━━\u001b[0m\u001b[37m\u001b[0m \u001b[1m1s\u001b[0m 6ms/step - accuracy: 0.9158 - loss: 0.2374 - val_accuracy: 0.9068 - val_loss: 0.2747\n",
      "Epoch 8/10\n",
      "\u001b[1m94/94\u001b[0m \u001b[32m━━━━━━━━━━━━━━━━━━━━\u001b[0m\u001b[37m\u001b[0m \u001b[1m1s\u001b[0m 6ms/step - accuracy: 0.9219 - loss: 0.2193 - val_accuracy: 0.9056 - val_loss: 0.2731\n",
      "Epoch 9/10\n",
      "\u001b[1m94/94\u001b[0m \u001b[32m━━━━━━━━━━━━━━━━━━━━\u001b[0m\u001b[37m\u001b[0m \u001b[1m1s\u001b[0m 6ms/step - accuracy: 0.9269 - loss: 0.2087 - val_accuracy: 0.9034 - val_loss: 0.2814\n",
      "Epoch 10/10\n",
      "\u001b[1m94/94\u001b[0m \u001b[32m━━━━━━━━━━━━━━━━━━━━\u001b[0m\u001b[37m\u001b[0m \u001b[1m1s\u001b[0m 6ms/step - accuracy: 0.9263 - loss: 0.2035 - val_accuracy: 0.9081 - val_loss: 0.2670\n"
     ]
    }
   ],
   "source": [
    "history = model.fit(X_train,y_train,epochs=10,batch_size=512,verbose=1,validation_data=(X_val,y_val))"
   ]
  },
  {
   "cell_type": "code",
   "execution_count": 22,
   "id": "6053f2a8",
   "metadata": {
    "execution": {
     "iopub.execute_input": "2025-05-12T08:03:19.833078Z",
     "iopub.status.busy": "2025-05-12T08:03:19.832809Z",
     "iopub.status.idle": "2025-05-12T08:03:19.837829Z",
     "shell.execute_reply": "2025-05-12T08:03:19.837246Z"
    },
    "papermill": {
     "duration": 0.019372,
     "end_time": "2025-05-12T08:03:19.838964",
     "exception": false,
     "start_time": "2025-05-12T08:03:19.819592",
     "status": "completed"
    },
    "tags": []
   },
   "outputs": [
    {
     "data": {
      "text/plain": [
       "{'accuracy': [0.7988541722297668,\n",
       "  0.8706666827201843,\n",
       "  0.8881875276565552,\n",
       "  0.8991666436195374,\n",
       "  0.9049791693687439,\n",
       "  0.9112291932106018,\n",
       "  0.9160416722297668,\n",
       "  0.9190833568572998,\n",
       "  0.925166666507721,\n",
       "  0.9261041879653931],\n",
       " 'loss': [0.6142113208770752,\n",
       "  0.366334468126297,\n",
       "  0.316538542509079,\n",
       "  0.28755053877830505,\n",
       "  0.2657769024372101,\n",
       "  0.25004181265830994,\n",
       "  0.23623986542224884,\n",
       "  0.22366665303707123,\n",
       "  0.21103745698928833,\n",
       "  0.20440106093883514],\n",
       " 'val_accuracy': [0.859000027179718,\n",
       "  0.8725000023841858,\n",
       "  0.8893333077430725,\n",
       "  0.893583357334137,\n",
       "  0.8987500071525574,\n",
       "  0.8932499885559082,\n",
       "  0.9068333506584167,\n",
       "  0.9055833220481873,\n",
       "  0.9034166932106018,\n",
       "  0.9080833196640015],\n",
       " 'val_loss': [0.4117249846458435,\n",
       "  0.360555499792099,\n",
       "  0.32124894857406616,\n",
       "  0.3052006959915161,\n",
       "  0.2895504832267761,\n",
       "  0.29958319664001465,\n",
       "  0.2747139632701874,\n",
       "  0.27306997776031494,\n",
       "  0.281360387802124,\n",
       "  0.26696497201919556]}"
      ]
     },
     "execution_count": 22,
     "metadata": {},
     "output_type": "execute_result"
    }
   ],
   "source": [
    "history.history"
   ]
  },
  {
   "cell_type": "code",
   "execution_count": 23,
   "id": "b361f4fe",
   "metadata": {
    "execution": {
     "iopub.execute_input": "2025-05-12T08:03:19.864444Z",
     "iopub.status.busy": "2025-05-12T08:03:19.864242Z",
     "iopub.status.idle": "2025-05-12T08:03:19.996824Z",
     "shell.execute_reply": "2025-05-12T08:03:19.996203Z"
    },
    "papermill": {
     "duration": 0.146617,
     "end_time": "2025-05-12T08:03:19.998012",
     "exception": false,
     "start_time": "2025-05-12T08:03:19.851395",
     "status": "completed"
    },
    "tags": []
   },
   "outputs": [
    {
     "data": {
      "text/plain": [
       "[<matplotlib.lines.Line2D at 0x7f66003042d0>]"
      ]
     },
     "execution_count": 23,
     "metadata": {},
     "output_type": "execute_result"
    },
    {
     "data": {
      "image/png": "[encoded data removed]",
      "text/plain": [
       "<Figure size 640x480 with 1 Axes>"
      ]
     },
     "metadata": {},
     "output_type": "display_data"
    }
   ],
   "source": [
    "plt.plot(history.history['val_accuracy'])\n",
    "plt.plot(history.history['accuracy'])"
   ]
  },
  {
   "cell_type": "code",
   "execution_count": 24,
   "id": "211bd0d5",
   "metadata": {
    "execution": {
     "iopub.execute_input": "2025-05-12T08:03:20.025603Z",
     "iopub.status.busy": "2025-05-12T08:03:20.025174Z",
     "iopub.status.idle": "2025-05-12T08:03:20.027805Z",
     "shell.execute_reply": "2025-05-12T08:03:20.027317Z"
    },
    "papermill": {
     "duration": 0.01685,
     "end_time": "2025-05-12T08:03:20.028817",
     "exception": false,
     "start_time": "2025-05-12T08:03:20.011967",
     "status": "completed"
    },
    "tags": []
   },
   "outputs": [],
   "source": [
    "## Test"
   ]
  },
  {
   "cell_type": "code",
   "execution_count": 25,
   "id": "38ad27f3",
   "metadata": {
    "execution": {
     "iopub.execute_input": "2025-05-12T08:03:20.055442Z",
     "iopub.status.busy": "2025-05-12T08:03:20.055269Z",
     "iopub.status.idle": "2025-05-12T08:03:20.400553Z",
     "shell.execute_reply": "2025-05-12T08:03:20.399834Z"
    },
    "papermill": {
     "duration": 0.359608,
     "end_time": "2025-05-12T08:03:20.401604",
     "exception": false,
     "start_time": "2025-05-12T08:03:20.041996",
     "status": "completed"
    },
    "tags": []
   },
   "outputs": [
    {
     "name": "stdout",
     "output_type": "stream",
     "text": [
      "\u001b[1m1/1\u001b[0m \u001b[32m━━━━━━━━━━━━━━━━━━━━\u001b[0m\u001b[37m\u001b[0m \u001b[1m0s\u001b[0m 297ms/step\n"
     ]
    },
    {
     "data": {
      "text/plain": [
       "array([[0.  , 0.  , 0.  , 0.  , 0.  , 0.  , 0.  , 0.01, 0.  , 0.99]],\n",
       "      dtype=float32)"
      ]
     },
     "execution_count": 25,
     "metadata": {},
     "output_type": "execute_result"
    }
   ],
   "source": [
    "model.predict(np.expand_dims(X_test[0],axis = 0)).round(2)"
   ]
  },
  {
   "cell_type": "code",
   "execution_count": 26,
   "id": "80831337",
   "metadata": {
    "execution": {
     "iopub.execute_input": "2025-05-12T08:03:20.430305Z",
     "iopub.status.busy": "2025-05-12T08:03:20.430080Z",
     "iopub.status.idle": "2025-05-12T08:03:20.494129Z",
     "shell.execute_reply": "2025-05-12T08:03:20.493318Z"
    },
    "papermill": {
     "duration": 0.07894,
     "end_time": "2025-05-12T08:03:20.495252",
     "exception": false,
     "start_time": "2025-05-12T08:03:20.416312",
     "status": "completed"
    },
    "tags": []
   },
   "outputs": [
    {
     "name": "stdout",
     "output_type": "stream",
     "text": [
      "\u001b[1m1/1\u001b[0m \u001b[32m━━━━━━━━━━━━━━━━━━━━\u001b[0m\u001b[37m\u001b[0m \u001b[1m0s\u001b[0m 17ms/step\n"
     ]
    },
    {
     "data": {
      "text/plain": [
       "9"
      ]
     },
     "execution_count": 26,
     "metadata": {},
     "output_type": "execute_result"
    }
   ],
   "source": [
    "np.argmax(model.predict(np.expand_dims(X_test[0],axis=0)).round(2))"
   ]
  },
  {
   "cell_type": "code",
   "execution_count": 27,
   "id": "327cf22e",
   "metadata": {
    "execution": {
     "iopub.execute_input": "2025-05-12T08:03:20.522520Z",
     "iopub.status.busy": "2025-05-12T08:03:20.522304Z",
     "iopub.status.idle": "2025-05-12T08:03:21.738883Z",
     "shell.execute_reply": "2025-05-12T08:03:21.738179Z"
    },
    "papermill": {
     "duration": 1.231489,
     "end_time": "2025-05-12T08:03:21.740106",
     "exception": false,
     "start_time": "2025-05-12T08:03:20.508617",
     "status": "completed"
    },
    "tags": []
   },
   "outputs": [
    {
     "name": "stdout",
     "output_type": "stream",
     "text": [
      "\u001b[1m313/313\u001b[0m \u001b[32m━━━━━━━━━━━━━━━━━━━━\u001b[0m\u001b[37m\u001b[0m \u001b[1m1s\u001b[0m 2ms/step\n"
     ]
    },
    {
     "data": {
      "text/plain": [
       "array([[0.  , 0.  , 0.  , ..., 0.01, 0.  , 0.99],\n",
       "       [0.  , 0.  , 1.  , ..., 0.  , 0.  , 0.  ],\n",
       "       [0.  , 1.  , 0.  , ..., 0.  , 0.  , 0.  ],\n",
       "       ...,\n",
       "       [0.  , 0.  , 0.  , ..., 0.  , 1.  , 0.  ],\n",
       "       [0.  , 1.  , 0.  , ..., 0.  , 0.  , 0.  ],\n",
       "       [0.  , 0.  , 0.01, ..., 0.17, 0.08, 0.01]], dtype=float32)"
      ]
     },
     "execution_count": 27,
     "metadata": {},
     "output_type": "execute_result"
    }
   ],
   "source": [
    "y_pred = model.predict(X_test).round(2)\n",
    "y_pred"
   ]
  },
  {
   "cell_type": "code",
   "execution_count": 28,
   "id": "5fc88d0c",
   "metadata": {
    "execution": {
     "iopub.execute_input": "2025-05-12T08:03:21.768667Z",
     "iopub.status.busy": "2025-05-12T08:03:21.768445Z",
     "iopub.status.idle": "2025-05-12T08:03:22.848189Z",
     "shell.execute_reply": "2025-05-12T08:03:22.847619Z"
    },
    "papermill": {
     "duration": 1.094912,
     "end_time": "2025-05-12T08:03:22.849264",
     "exception": false,
     "start_time": "2025-05-12T08:03:21.754352",
     "status": "completed"
    },
    "tags": []
   },
   "outputs": [
    {
     "name": "stdout",
     "output_type": "stream",
     "text": [
      "\u001b[1m313/313\u001b[0m \u001b[32m━━━━━━━━━━━━━━━━━━━━\u001b[0m\u001b[37m\u001b[0m \u001b[1m1s\u001b[0m 2ms/step - accuracy: 0.9055 - loss: 0.2764\n"
     ]
    },
    {
     "data": {
      "text/plain": [
       "[0.2765360474586487, 0.9006999731063843]"
      ]
     },
     "execution_count": 28,
     "metadata": {},
     "output_type": "execute_result"
    }
   ],
   "source": [
    "model.evaluate(X_test,y_test)"
   ]
  },
  {
   "cell_type": "code",
   "execution_count": 29,
   "id": "b6412f30",
   "metadata": {
    "execution": {
     "iopub.execute_input": "2025-05-12T08:03:22.879636Z",
     "iopub.status.busy": "2025-05-12T08:03:22.879428Z",
     "iopub.status.idle": "2025-05-12T08:03:22.882403Z",
     "shell.execute_reply": "2025-05-12T08:03:22.881936Z"
    },
    "papermill": {
     "duration": 0.019009,
     "end_time": "2025-05-12T08:03:22.883290",
     "exception": false,
     "start_time": "2025-05-12T08:03:22.864281",
     "status": "completed"
    },
    "tags": []
   },
   "outputs": [],
   "source": [
    "## Visulaise oupt"
   ]
  },
  {
   "cell_type": "code",
   "execution_count": 30,
   "id": "dfd2ae70",
   "metadata": {
    "execution": {
     "iopub.execute_input": "2025-05-12T08:03:22.912126Z",
     "iopub.status.busy": "2025-05-12T08:03:22.911948Z",
     "iopub.status.idle": "2025-05-12T08:03:23.325868Z",
     "shell.execute_reply": "2025-05-12T08:03:23.325182Z"
    },
    "papermill": {
     "duration": 0.42949,
     "end_time": "2025-05-12T08:03:23.327028",
     "exception": false,
     "start_time": "2025-05-12T08:03:22.897538",
     "status": "completed"
    },
    "tags": []
   },
   "outputs": [
    {
     "data": {
      "text/plain": [
       "<Axes: >"
      ]
     },
     "execution_count": 30,
     "metadata": {},
     "output_type": "execute_result"
    },
    {
     "data": {
      "image/png": "[encoded data removed]",
      "text/plain": [
       "<Figure size 1600x900 with 2 Axes>"
      ]
     },
     "metadata": {},
     "output_type": "display_data"
    }
   ],
   "source": [
    "from sklearn.metrics import confusion_matrix\n",
    "\n",
    "plt.figure(figsize=(16,9))\n",
    "y_pred_labels = [np.argmax(label) for label in y_pred]\n",
    "cm = confusion_matrix(y_test,y_pred_labels)\n",
    "\n",
    "sns.heatmap(cm,annot=True,fmt='d')"
   ]
  },
  {
   "cell_type": "code",
   "execution_count": 31,
   "id": "19a79ab4",
   "metadata": {
    "execution": {
     "iopub.execute_input": "2025-05-12T08:03:23.358479Z",
     "iopub.status.busy": "2025-05-12T08:03:23.358087Z",
     "iopub.status.idle": "2025-05-12T08:03:23.381996Z",
     "shell.execute_reply": "2025-05-12T08:03:23.381207Z"
    },
    "papermill": {
     "duration": 0.040596,
     "end_time": "2025-05-12T08:03:23.383165",
     "exception": false,
     "start_time": "2025-05-12T08:03:23.342569",
     "status": "completed"
    },
    "tags": []
   },
   "outputs": [
    {
     "name": "stdout",
     "output_type": "stream",
     "text": [
      "              precision    recall  f1-score   support\n",
      "\n",
      "           0       0.80      0.90      0.85      1000\n",
      "           1       0.99      0.97      0.98      1000\n",
      "           2       0.80      0.88      0.84      1000\n",
      "           3       0.91      0.91      0.91      1000\n",
      "           4       0.81      0.88      0.85      1000\n",
      "           5       0.99      0.96      0.98      1000\n",
      "           6       0.84      0.58      0.69      1000\n",
      "           7       0.96      0.95      0.96      1000\n",
      "           8       0.97      0.98      0.97      1000\n",
      "           9       0.95      0.97      0.96      1000\n",
      "\n",
      "    accuracy                           0.90     10000\n",
      "   macro avg       0.90      0.90      0.90     10000\n",
      "weighted avg       0.90      0.90      0.90     10000\n",
      "\n"
     ]
    }
   ],
   "source": [
    "from sklearn.metrics import classification_report\n",
    "cr = classification_report(y_test,y_pred_labels)\n",
    "print(cr)"
   ]
  },
  {
   "cell_type": "code",
   "execution_count": 32,
   "id": "20b62c71",
   "metadata": {
    "execution": {
     "iopub.execute_input": "2025-05-12T08:03:23.415817Z",
     "iopub.status.busy": "2025-05-12T08:03:23.415384Z",
     "iopub.status.idle": "2025-05-12T08:03:23.456669Z",
     "shell.execute_reply": "2025-05-12T08:03:23.456134Z"
    },
    "papermill": {
     "duration": 0.058832,
     "end_time": "2025-05-12T08:03:23.457887",
     "exception": false,
     "start_time": "2025-05-12T08:03:23.399055",
     "status": "completed"
    },
    "tags": []
   },
   "outputs": [],
   "source": [
    "model.save('fashion_classification_cnn_model.h5')"
   ]
  },
  {
   "cell_type": "code",
   "execution_count": null,
   "id": "adbb8483",
   "metadata": {
    "papermill": {
     "duration": 0.015149,
     "end_time": "2025-05-12T08:03:23.488603",
     "exception": false,
     "start_time": "2025-05-12T08:03:23.473454",
     "status": "completed"
    },
    "tags": []
   },
   "outputs": [],
   "source": []
  }
 ],
 "metadata": {
  "kaggle": {
   "accelerator": "nvidiaTeslaT4",
   "dataSources": [],
   "dockerImageVersionId": 31011,
   "isGpuEnabled": true,
   "isInternetEnabled": true,
   "language": "python",
   "sourceType": "notebook"
  },
  "kernelspec": {
   "display_name": "Python 3",
   "language": "python",
   "name": "python3"
  },
  "language_info": {
   "codemirror_mode": {
    "name": "ipython",
    "version": 3
   },
   "file_extension": ".py",
   "mimetype": "text/x-python",
   "name": "python",
   "nbconvert_exporter": "python",
   "pygments_lexer": "ipython3",
   "version": "3.11.11"
  },
  "papermill": {
   "default_parameters": {},
   "duration": 43.278045,
   "end_time": "2025-05-12T08:03:26.878511",
   "environment_variables": {},
   "exception": null,
   "input_path": "__notebook__.ipynb",
   "output_path": "__notebook__.ipynb",
   "parameters": {},
   "start_time": "2025-05-12T08:02:43.600466",
   "version": "2.6.0"
  }
 },
 "nbformat": 4,
 "nbformat_minor": 5
}
